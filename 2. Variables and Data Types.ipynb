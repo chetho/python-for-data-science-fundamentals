{
 "cells": [
  {
   "cell_type": "markdown",
   "metadata": {},
   "source": [
    "# Variables and Data Types"
   ]
  },
  {
   "cell_type": "markdown",
   "metadata": {},
   "source": [
    "## Saving Values\n",
    "\n",
    "1. Save the result of (42 - 11) * 22 to result.\n",
    "2. Print result."
   ]
  },
  {
   "cell_type": "code",
   "execution_count": 3,
   "metadata": {},
   "outputs": [
    {
     "name": "stdout",
     "output_type": "stream",
     "text": [
      "682\n"
     ]
    }
   ],
   "source": [
    "result = (42 - 11) * 22\n",
    "print(result)"
   ]
  },
  {
   "cell_type": "markdown",
   "metadata": {},
   "source": [
    "## Variables\n",
    "1. Store the value 15 in a variable named a_value.\n",
    "2. Store the result of (25 - 7) * 17 to a variable named a_result.\n",
    "3. Using the print() command, display the following:\n",
    "    * The value stored in the a_value variable.\n",
    "    * The result of adding 12 to the variable a_result.\n",
    "    * The result of adding a_value to a_result."
   ]
  },
  {
   "cell_type": "code",
   "execution_count": 4,
   "metadata": {},
   "outputs": [
    {
     "name": "stdout",
     "output_type": "stream",
     "text": [
      "15\n",
      "318\n",
      "321\n"
     ]
    }
   ],
   "source": [
    "a_value = 15\n",
    "a_result = (25-7) * 17\n",
    "print(a_value)\n",
    "print(a_result + 12)\n",
    "print(a_result + a_value)"
   ]
  },
  {
   "cell_type": "markdown",
   "metadata": {},
   "source": [
    "## Variable Names\n",
    "In the code editor on the right, we attempted to store 34000 in a variable named old-income, and 40000 in a variable named new income. But both of these variable names cause syntax errors, so we commented-out the code.\n",
    "1. Change the variable name old-income to old_income to prevent a syntax error.\n",
    "2. Change the variable name new income to new_income to prevent a syntax error.\n",
    "3. Remove the # from each line so that the code will run, then run the code.\n",
    "    \n",
    "```\n",
    "#Code Snipet\n",
    "#new income = 40000\n",
    "#old-income = 34000\n",
    "#new income = 40000\n",
    "```"
   ]
  },
  {
   "cell_type": "code",
   "execution_count": 6,
   "metadata": {},
   "outputs": [],
   "source": [
    "# INITIAL CODE\n",
    "old_income = 34000\n",
    "new_income = 40000"
   ]
  },
  {
   "cell_type": "markdown",
   "metadata": {},
   "source": [
    "## Updating Variables\n",
    "\n",
    "1. Update the variable income by adding 6000 to its current value. The variable income is already shown in the code editor on the right.\n",
    "2. Print income.\n",
    "\n",
    "```\n",
    "# Code snipet\n",
    "income = 34000\n",
    "```"
   ]
  },
  {
   "cell_type": "code",
   "execution_count": 7,
   "metadata": {},
   "outputs": [
    {
     "name": "stdout",
     "output_type": "stream",
     "text": [
      "40000\n"
     ]
    }
   ],
   "source": [
    "income = 34000 + 6000\n",
    "print(income)"
   ]
  },
  {
   "cell_type": "markdown",
   "metadata": {},
   "source": [
    "## Syntax Shortcuts\n",
    "1. Assign a value of 20 to a variable named variable_1.\n",
    "2. Assign a value of 20 to a variable named variable_2.\n",
    "3. Update the value of variable_2 by adding 10 to its current value. You can take advantage of the += operator.\n",
    "4. Update the value of variable_1 by multiplying its current value by 4. You can take advantage of the *= operator.\n",
    "5. Display variable_1 and variable_2 using print()."
   ]
  },
  {
   "cell_type": "code",
   "execution_count": 8,
   "metadata": {},
   "outputs": [
    {
     "name": "stdout",
     "output_type": "stream",
     "text": [
      "80\n",
      "30\n"
     ]
    }
   ],
   "source": [
    "variable_1 = 20\n",
    "variable_2 = 20\n",
    "\n",
    "variable_2 += 10\n",
    "variable_1 *= 4\n",
    "\n",
    "print(variable_1)\n",
    "print(variable_2)"
   ]
  },
  {
   "cell_type": "markdown",
   "metadata": {},
   "source": [
    "## Integers and Floats\n",
    "1. Assign the integer 10 to a variable named variable_1.\n",
    "2. Assign the float 2.5 to a variable named variable_2.\n",
    "3. Update the value of variable_1 by adding the float 6.5 to its current value. You can use the += operator.\n",
    "4. Update the value of variable_2 by multiplying its current value by the integer 2. You can use the *= operator.\n",
    "5. Display variable_1 and variable_2 using print()."
   ]
  },
  {
   "cell_type": "code",
   "execution_count": 9,
   "metadata": {},
   "outputs": [
    {
     "name": "stdout",
     "output_type": "stream",
     "text": [
      "16.5\n",
      "5.0\n"
     ]
    }
   ],
   "source": [
    "variable_1 = 10\n",
    "variable_2 = 2.5\n",
    "\n",
    "variable_1 += 6.5\n",
    "variable_2 *= 2\n",
    "\n",
    "print(variable_1)\n",
    "print(variable_2)"
   ]
  },
  {
   "cell_type": "markdown",
   "metadata": {},
   "source": [
    "## Conversion Between Types\n",
    "1. Assign the value 13.9 to a variable named variable_a.\n",
    "2. Assign the value 2.8 to a variable named variable_b.\n",
    "3. Round variable_a using the round() command, and assign back the rounded value to variable_a.\n",
    "4. Convert variable_b from a float to an integer using the int() command, and assign back the converted value to variable_b.\n",
    "5. Display variable_a and variable_b using the print() command."
   ]
  },
  {
   "cell_type": "code",
   "execution_count": 10,
   "metadata": {},
   "outputs": [
    {
     "name": "stdout",
     "output_type": "stream",
     "text": [
      "14\n",
      "2\n"
     ]
    }
   ],
   "source": [
    "variable_a = 13.9\n",
    "variable_b = 2.8\n",
    "\n",
    "variable_a = round(variable_a)\n",
    "variable_b = int(variable_b)\n",
    "print(variable_a)\n",
    "print(variable_b)"
   ]
  },
  {
   "cell_type": "markdown",
   "metadata": {},
   "source": [
    "## Strings\n",
    "1. Assign the string ```Pandora - Music & Radio``` to a variable named ```app_name```.\n",
    "2. Assign the string ```4.0``` to a variable named ```average_rating```. Make sure you don't mistake a string for a float.\n",
    "3. Assign the string ```1724546``` to a variable named ```total_ratings```. Make sure you don't mistake a string for an integer.\n",
    "4. Assign the string ```free``` to a variable named ```price```.\n",
    "5. Display the ```app_name``` variable using ```print()```."
   ]
  },
  {
   "cell_type": "code",
   "execution_count": 11,
   "metadata": {},
   "outputs": [
    {
     "name": "stdout",
     "output_type": "stream",
     "text": [
      "Pandora - Music & Radio\n"
     ]
    }
   ],
   "source": [
    "app_name = \"Pandora - Music & Radio\"\n",
    "average_rating = \"4.0\"\n",
    "total_ratings = \"1724546\"\n",
    "price = \"free\"\n",
    "print(app_name)"
   ]
  },
  {
   "cell_type": "markdown",
   "metadata": {},
   "source": [
    "## Escaping Special Characters\n",
    "1. Assign the string ```Facebook's new motto is \"move fast with stable infra.\"``` to a variable named ```motto```.\n",
    "    * Notice there's a . character at the end of ```Facebook's new motto is \"move fast with stable infra.\"``` — you'll need to include the . character in your answer.\n",
    "2. Display the variable ```motto``` using ```print()``` — displaying ```motto``` is required for answer checking."
   ]
  },
  {
   "cell_type": "code",
   "execution_count": 12,
   "metadata": {},
   "outputs": [
    {
     "name": "stdout",
     "output_type": "stream",
     "text": [
      "Facebook's new motto is \"move fast with stable infra.\"\n"
     ]
    }
   ],
   "source": [
    "motto = 'Facebook\\'s new motto is \"move fast with stable infra.\"'\n",
    "print(motto)"
   ]
  },
  {
   "cell_type": "markdown",
   "metadata": {},
   "source": [
    "## String Operations\n",
    "1. Assign the string ```Facebook's rating is``` to a variable named ```facebook```.\n",
    "2. Sign the float ```3.5``` to a variable named ```fb_rating```.\n",
    "3. Convert ```fb_rating``` from a float to a string using the ```str()``` command, and assign the converted value to a new variable named ```fb_rating_str```.\n",
    "    * Concatenate the strings stored in ```facebook``` and ```fb_rating_str``` to form the string ```Facebook's rating is 3.5```.\n",
    "    * Assign the concatenated string to a variable named ```fb```.\n",
    "4. You'll need to add a space character between ```Facebook's rating is``` and ```3.5``` to avoid ending up with the string ```Facebook's rating is3.5```.\n",
    "5. Display the ```fb``` variable using ```print()``` — this is required for answer checking."
   ]
  },
  {
   "cell_type": "code",
   "execution_count": 13,
   "metadata": {},
   "outputs": [
    {
     "name": "stdout",
     "output_type": "stream",
     "text": [
      "Facebook's rating is 3.5\n"
     ]
    }
   ],
   "source": [
    "facebook = \"Facebook's rating is\"\n",
    "fb_rating = 3.5\n",
    "\n",
    "fb_rating_str = str(fb_rating)\n",
    "fb = facebook + ' ' + fb_rating_str\n",
    "\n",
    "print(fb)"
   ]
  }
 ],
 "metadata": {
  "kernelspec": {
   "display_name": "Python 3",
   "language": "python",
   "name": "python3"
  },
  "language_info": {
   "codemirror_mode": {
    "name": "ipython",
    "version": 3
   },
   "file_extension": ".py",
   "mimetype": "text/x-python",
   "name": "python",
   "nbconvert_exporter": "python",
   "pygments_lexer": "ipython3",
   "version": "3.7.4"
  }
 },
 "nbformat": 4,
 "nbformat_minor": 2
}
