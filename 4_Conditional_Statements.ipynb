{
 "cells": [
  {
   "cell_type": "markdown",
   "metadata": {},
   "source": [
    "# Conditional Statements\n",
    "## If Statements\n",
    "\n",
    "Complete the code in the editor to find the average rating for free apps.\n",
    "\n",
    "1. Inside the for loop:\n",
    "2. Assign the price of an app as a float to a variable named ```price```. The price is the fifth element in each row (don't forget that the index starts at 0).\n",
    "3. If ```price == 0.0```, append the value stored in ```rating``` to the ```free_apps_ratings list``` using the ```list_name.append()``` command (note the ```free_apps_ratings``` is already defined in the code editor). Be careful with indentation.\n",
    "4. Outside the for loop body, compute the average rating of free apps. Assign the result to a variable named ```avg_rating_free```. The ratings are stored in the ```free_apps_ratings``` list.\n",
    "\n",
    "```\n",
    "# Code Snippet\n",
    "# INITIAL CODE\n",
    "opened_file = open('AppleStore.csv')\n",
    "from csv import reader\n",
    "read_file = reader(opened_file)\n",
    "apps_data = list(read_file)\n",
    "\n",
    "free_apps_ratings = []\n",
    "for row in apps_data[1:]:\n",
    "    rating = float(row[8])\n",
    "    # Complete the code from here\n",
    "```"
   ]
  },
  {
   "cell_type": "code",
   "execution_count": 7,
   "metadata": {},
   "outputs": [],
   "source": [
    "opened_file = open('AppleStore.csv',encoding='ISO-8859-1')\n",
    "from csv import reader\n",
    "read_file = reader(opened_file)\n",
    "apps_data = list(read_file)\n",
    "\n",
    "free_apps_ratings = []\n",
    "for row in apps_data[1:]:\n",
    "    rating = float(row[8])\n",
    "    price = float(row[5])\n",
    "    if price == 0.0:\n",
    "        free_apps_ratings.append(rating)\n",
    "avg_rating_free = sum(free_apps_ratings) / len(free_apps_ratings)"
   ]
  },
  {
   "cell_type": "markdown",
   "metadata": {},
   "source": [
    "## Booleans\n",
    "In the code editor, we've already initialized the variable ```a_price``` with a value of ```0```. Transcribe the following sentences into code by making use of ```if``` statements:\n",
    "\n",
    "1. If ```a_price``` is equal to ```0```, then print the string ```'This is free'``` (remember to use the ```==``` operator for equality).\n",
    "2. If ```a_price``` is equal to ```1```, then print the string ```'This is not free'```.\n",
    "\n",
    "\n",
    "```\n",
    "# Code Snippet\n",
    "a_price = 0\n",
    "```"
   ]
  },
  {
   "cell_type": "code",
   "execution_count": 8,
   "metadata": {},
   "outputs": [
    {
     "name": "stdout",
     "output_type": "stream",
     "text": [
      "This is free\n"
     ]
    }
   ],
   "source": [
    "a_price = 0\n",
    "if a_price == 0:\n",
    "    print('This is free')\n",
    "if a_price == 1:\n",
    "    print('This is not free')"
   ]
  },
  {
   "cell_type": "markdown",
   "metadata": {},
   "source": [
    "## The Average Rating of Non-free Apps\n",
    "\n",
    "Modify the existing code in the editor on the right to compute the average rating of non-free apps.\n",
    "\n",
    "1. Change the name of the empty list from ```free_apps_ratings``` to ```non_free_apps_ratings``` (the list we defined before the for loop).\n",
    "2. Change the condition ```if price == 0.0``` to account for the fact that we now want to isolate only the ratings of non-free apps.\n",
    "3. Change ```free_apps_ratings.append(rating)``` to make sure the ratings are appended to the new list ```non_free_apps_ratings```.\n",
    "4. Compute the average value by summing up the values in ```non_free_apps_ratings``` and dividing by the length of this list. Assign the result to ```avg_rating_non_free```.\n",
    "5. Optional exercise: Inspect the value of ```avg_rating_non_free``` and compare the average with that of free apps (the average rating of free apps is approximately 3.38 — we computed it in the first screen). Can we use the average values to say that free apps are better than non-free apps, or vice versa?\n",
    "\n",
    "```\n",
    "# INITIAL CODE\n",
    "opened_file = open('AppleStore.csv')\n",
    "from csv import reader\n",
    "read_file = reader(opened_file)\n",
    "apps_data = list(read_file)\n",
    "\n",
    "free_apps_ratings = []\n",
    "for row in apps_data[1:]:\n",
    "    rating = float(row[8])\n",
    "    price = float(row[5])   \n",
    "    if price == 0.0:\n",
    "        free_apps_ratings.append(rating)\n",
    "    \n",
    "avg_rating_free = sum(free_apps_ratings) / len(free_apps_ratings)\n",
    "```"
   ]
  },
  {
   "cell_type": "code",
   "execution_count": 9,
   "metadata": {},
   "outputs": [
    {
     "name": "stdout",
     "output_type": "stream",
     "text": [
      "Non-free apps are better than free apps\n"
     ]
    }
   ],
   "source": [
    "# INITIAL CODE\n",
    "opened_file = open('AppleStore.csv',encoding='ISO-8859-1')\n",
    "from csv import reader\n",
    "read_file = reader(opened_file)\n",
    "apps_data = list(read_file)\n",
    "\n",
    "non_free_apps_ratings = []\n",
    "free_apps_ratings = []\n",
    "for row in apps_data[1:]:\n",
    "    rating = float(row[8])\n",
    "    price = float(row[5])   \n",
    "    if price != 0.0:\n",
    "        non_free_apps_ratings.append(rating)\n",
    "    else:\n",
    "        free_apps_ratings.append(rating)\n",
    "avg_rating_non_free = sum(non_free_apps_ratings) / len(non_free_apps_ratings)\n",
    "avg_rating_free = sum(free_apps_ratings) / len(free_apps_ratings)\n",
    "\n",
    "if avg_rating_free > avg_rating_non_free:\n",
    "    print('Free Apps are better than non-free apps')\n",
    "else:\n",
    "    print('Non-free apps are better than free apps')"
   ]
  },
  {
   "cell_type": "markdown",
   "metadata": {},
   "source": [
    "## The Average Rating of Gaming Apps\n",
    "Following the same techniques we used in the diagram above, compute the average rating of non-gaming apps.\n",
    "\n",
    "1. Initialize an empty list named ```non_games_ratings```.\n",
    "2. Loop through the ```apps_data``` list of lists (make sure you don't include the header row). For each iteration of the loop:\n",
    "    * Assign the rating of the app as a float to a variable named ```rating``` (the index number of the rating column is ```7```).\n",
    "    * Assign the genre of the app to a variable named ```genre``` (index number ```11```).\n",
    "    * If the genre is not equal to ```'Games'```, append the rating to the ```non_games_ratings``` list.\n",
    "3. Compute the average rating of non-gaming apps, and assign the result to a variable named ```avg_rating_non_games```.\n",
    "4. Optional exercise: Compare the average rating of gaming apps (3.69) with that of non-gaming apps. Why do you think we see this difference?\n",
    "\n",
    "```\n",
    "# Code Snippet\n",
    "opened_file = open('AppleStore.csv')\n",
    "from csv import reader\n",
    "read_file = reader(opened_file)\n",
    "apps_data = list(read_file)\n",
    "```"
   ]
  },
  {
   "cell_type": "code",
   "execution_count": 10,
   "metadata": {},
   "outputs": [
    {
     "name": "stdout",
     "output_type": "stream",
     "text": [
      "Games are popular\n"
     ]
    }
   ],
   "source": [
    "opened_file = open('AppleStore.csv',encoding='ISO-8859-1')\n",
    "from csv import reader\n",
    "read_file = reader(opened_file)\n",
    "apps_data = list(read_file)\n",
    "non_games_ratings = []\n",
    "for row in apps_data[1:]:\n",
    "    rating = float(row[8])\n",
    "    genre = row[12]\n",
    "    if genre != 'Games':\n",
    "        non_games_ratings.append(rating)\n",
    "avg_rating_non_games = sum(non_games_ratings) / len(non_games_ratings)\n",
    "avg_rating_games = 3.69\n",
    "if avg_rating_games > avg_rating_non_games:\n",
    "    print('Games are popular')\n",
    "else:\n",
    "    print('Games are not popular')"
   ]
  },
  {
   "cell_type": "markdown",
   "metadata": {},
   "source": [
    "## Multiple Conditions\n",
    "Complete the code in the editor to compute the average rating of free gaming apps.\n",
    "\n",
    "1. Inside the for loop, append the rating to the ```free_games_ratings``` list if the price is equal to ```0.0``` and the genre is equal to ```'Games'```.\n",
    "2. Outside the for loop, compute the average rating of free gaming apps. Assign the result to a variable named ```avg_rating_free_games```.\n",
    "\n",
    "```\n",
    "# Code Snippet\n",
    "# INITIAL CODE\n",
    "opened_file = open('AppleStore.csv')\n",
    "from csv import reader\n",
    "read_file = reader(opened_file)\n",
    "apps_data = list(read_file)\n",
    "\n",
    "free_games_ratings = []\n",
    "for row in apps_data[1:]:\n",
    "    rating = float(row[8])\n",
    "    price = float(row[5])\n",
    "    genre = row[12]\n",
    "    # Complete code from here\n",
    "```"
   ]
  },
  {
   "cell_type": "code",
   "execution_count": 15,
   "metadata": {},
   "outputs": [],
   "source": [
    "# INITIAL CODE\n",
    "opened_file = open('AppleStore.csv',encoding='ISO-8859-1')\n",
    "from csv import reader\n",
    "read_file = reader(opened_file)\n",
    "apps_data = list(read_file)\n",
    "\n",
    "free_games_ratings = []\n",
    "for row in apps_data[1:]:\n",
    "    rating = float(row[8])\n",
    "    price = float(row[5])\n",
    "    genre = row[12]\n",
    "    # Complete code from here\n",
    "    if price == 0.0 and genre == 'Games':\n",
    "        free_games_ratings.append(rating)\n",
    "avg_rating_free_games = sum(free_games_ratings) / len(free_games_ratings)"
   ]
  },
  {
   "cell_type": "markdown",
   "metadata": {},
   "source": [
    "## The or Operator\n",
    "\n",
    "Complete the code in the editor to compute the average rating of the apps whose genre is either \"Social Networking\" or \"Games.\"\n",
    "\n",
    "1. Inside the for loop, append the rating to the ```games_social_ratings``` list if the genre is either ```'Social Networking'``` or ```'Games'```.\n",
    "2. Outside the for loop, compute the average rating of the apps whose genre is either \"Social Networking\" or \"Games,\" and assign the result to a variable named ```avg_games_social```.\n",
    "\n",
    "```\n",
    "# Code Snippet\n",
    "# INITIAL CODE\n",
    "opened_file = open('AppleStore.csv')\n",
    "from csv import reader\n",
    "read_file = reader(opened_file)\n",
    "apps_data = list(read_file)\n",
    "\n",
    "games_social_ratings = []\n",
    "for row in apps_data[1:]:\n",
    "    rating = float(row[8])\n",
    "    genre = row[12]\n",
    "    # Complete code from here\n",
    "```"
   ]
  },
  {
   "cell_type": "code",
   "execution_count": 17,
   "metadata": {},
   "outputs": [],
   "source": [
    "# INITIAL CODE\n",
    "opened_file = open('AppleStore.csv',encoding='ISO-8859-1')\n",
    "from csv import reader\n",
    "read_file = reader(opened_file)\n",
    "apps_data = list(read_file)\n",
    "\n",
    "games_social_ratings = []\n",
    "for row in apps_data[1:]:\n",
    "    rating = float(row[8])\n",
    "    genre = row[12]\n",
    "    # Complete code from here\n",
    "    if genre == 'Social Networking' or genre == 'Games':\n",
    "        games_social_ratings.append(rating)\n",
    "avg_games_social = sum(games_social_ratings) / len(games_social_ratings)"
   ]
  },
  {
   "cell_type": "markdown",
   "metadata": {},
   "source": [
    "## Combining Logical Operators\n",
    "\n",
    "1. Compute the average rating of non-free apps whose genre is either \"Social Networking\" or \"Games.\"\n",
    "    * Assign the result to a variable named ```avg_non_free```.\n",
    "    * We'll try to solve this exercise without any guidance. You may feel a bit stumped at first, but we've practiced the steps needed to solve this kind of exercise several times. Essentially, the code is almost identical to what we used to extract the ratings for free gaming or social networking apps.\n",
    "    \n",
    "```\n",
    "# Code Snippet\n",
    "opened_file = open('AppleStore.csv')\n",
    "from csv import reader\n",
    "read_file = reader(opened_file)\n",
    "apps_data = list(read_file)\n",
    "\n",
    "free_games_social_ratings = []\n",
    "for row in apps_data[1:]:\n",
    "    rating = float(row[8])\n",
    "    genre = row[12]\n",
    "    price = float(row[5])\n",
    "    \n",
    "    if (genre == 'Social Networking' or genre == 'Games') and price == 0:\n",
    "        free_games_social_ratings.append(rating)\n",
    "        \n",
    "avg_free = sum(free_games_social_ratings) / len(free_games_social_ratings)\n",
    "\n",
    "# Non-free apps (average)\n",
    "```"
   ]
  },
  {
   "cell_type": "code",
   "execution_count": 19,
   "metadata": {},
   "outputs": [],
   "source": [
    "opened_file = open('AppleStore.csv',encoding='ISO-8859-1')\n",
    "from csv import reader\n",
    "read_file = reader(opened_file)\n",
    "apps_data = list(read_file)\n",
    "\n",
    "free_games_social_ratings = []\n",
    "for row in apps_data[1:]:\n",
    "    rating = float(row[8])\n",
    "    genre = row[12]\n",
    "    price = float(row[5])\n",
    "    \n",
    "    if (genre == 'Social Networking' or genre == 'Games') and price == 0:\n",
    "        free_games_social_ratings.append(rating)\n",
    "        \n",
    "avg_free = sum(free_games_social_ratings) / len(free_games_social_ratings)\n",
    "\n",
    "# Non-free apps (average)\n",
    "nonfree_games_social_ratings = []\n",
    "for row in apps_data[1:]:\n",
    "    rating = float(row[8])\n",
    "    genre = row[12]\n",
    "    price = float(row[5])\n",
    "    \n",
    "    if (genre == 'Social Networking' or genre == 'Games') and price !=0:\n",
    "        nonfree_games_social_ratings.append(rating)\n",
    "avg_non_free = sum(nonfree_games_social_ratings) / len(nonfree_games_social_ratings)"
   ]
  },
  {
   "cell_type": "markdown",
   "metadata": {},
   "source": [
    "## Comparison Operators\n",
    "\n",
    "1. Compute the average rating of the apps that have a price greater than 9 dollars.\n",
    "    * Using a for loop, isolate the ratings of all the apps that have a price greater than 9 dollars. When you iterate over ```apps_data```, make sure you don't include the header row.\n",
    "    * Find the average value of these ratings and assign the result to a variable named ```avg_rating```.\n",
    "2. Find out how many apps have a price greater than 9 dollars and assign the result to a variable named ```n_apps_more_9```. You can use the list of ratings from the previous question to find the answer.\n",
    "3. Find out how many apps have a price less than or equal to 9 dollars and assign the result to a variable named ```n_apps_less_9```. The list of ratings from the first question can help you find a quick answer.\n",
    "\n",
    "```\n",
    "# Code Snippet\n",
    "opened_file = open('AppleStore.csv')\n",
    "from csv import reader\n",
    "read_file = reader(opened_file)\n",
    "apps_data = list(read_file)\n",
    "```"
   ]
  },
  {
   "cell_type": "code",
   "execution_count": 21,
   "metadata": {},
   "outputs": [],
   "source": [
    "opened_file = open('AppleStore.csv',encoding='ISO-8859-1')\n",
    "from csv import reader\n",
    "read_file = reader(opened_file)\n",
    "apps_data = list(read_file)\n",
    "apps_greater_than_9 = []\n",
    "for row in apps_data[1:]:\n",
    "    price = float(row[5])\n",
    "    rating = float(row[8])\n",
    "    if price > 9.0:\n",
    "        apps_greater_than_9.append(rating)\n",
    "avg_rating = sum(apps_greater_than_9) / len(apps_greater_than_9)\n",
    "n_apps_more_9 = len(apps_greater_than_9)\n",
    "n_apps_less_9 = len(apps_data[1:]) - n_apps_more_9"
   ]
  },
  {
   "cell_type": "markdown",
   "metadata": {},
   "source": [
    "## The else Clause\n",
    "\n",
    "1. Complete the code in the editor to label each app as \"free\" or \"non-free\" depending on its price.\n",
    "    * Inside the for loop:\n",
    "        * If the price of the app is ```0.0```, then label the app as \"free\" by appending the string ```'free'``` to the current iteration variable.\n",
    "        * Else, label the app \"non-free\" by appending the string ```'non-free'``` to the current iteration variable. Make sure you don't write ```'non_free'``` instead of ```'non-free'```.\n",
    "    * By adding labels to the end of each row, we basically created a new column. Name this column \"free_or_not\" by appending the string ```'free_or_not'``` to the first row of the ```apps_data``` data set. Make sure this is done outside the for loop.\n",
    "2. Print the header row and the first five rows to see some of the changes we made.\n",
    "\n",
    "```\n",
    "# INITIAL CODE\n",
    "opened_file = open('AppleStore.csv')\n",
    "from csv import reader\n",
    "read_file = reader(opened_file)\n",
    "apps_data = list(read_file)\n",
    "\n",
    "for app in apps_data[1:]:\n",
    "    price = float(app[4])\n",
    "    # Complete code from here\n",
    "```"
   ]
  },
  {
   "cell_type": "code",
   "execution_count": 22,
   "metadata": {},
   "outputs": [
    {
     "name": "stdout",
     "output_type": "stream",
     "text": [
      "[['', 'id', 'track_name', 'size_bytes', 'currency', 'price', 'rating_count_tot', 'rating_count_ver', 'user_rating', 'user_rating_ver', 'ver', 'cont_rating', 'prime_genre', 'sup_devices.num', 'ipadSc_urls.num', 'lang.num', 'vpp_lic', 'free_or_not'], ['1', '281656475', 'PAC-MAN Premium', '100788224', 'USD', '3.99', '21292', '26', '4', '4.5', '6.3.5', '4+', 'Games', '38', '5', '10', '1', 'non-free'], ['2', '281796108', 'Evernote - stay organized', '158578688', 'USD', '0', '161065', '26', '4', '3.5', '8.2.2', '4+', 'Productivity', '37', '5', '23', '1', 'free'], ['3', '281940292', 'WeatherBug - Local Weather, Radar, Maps, Alerts', '100524032', 'USD', '0', '188583', '2822', '3.5', '4.5', '5.0.0', '4+', 'Weather', '37', '5', '3', '1', 'free'], ['4', '282614216', 'eBay: Best App to Buy, Sell, Save! Online Shopping', '128512000', 'USD', '0', '262241', '649', '4', '4.5', '5.10.0', '12+', 'Shopping', '37', '5', '9', '1', 'free']]\n"
     ]
    }
   ],
   "source": [
    "# INITIAL CODE\n",
    "opened_file = open('AppleStore.csv',encoding='ISO-8859-1')\n",
    "from csv import reader\n",
    "read_file = reader(opened_file)\n",
    "apps_data = list(read_file)\n",
    "\n",
    "for app in apps_data[1:]:\n",
    "    price = float(app[5])\n",
    "    # Complete code from here\n",
    "    if price == 0.0:\n",
    "        app.append('free')\n",
    "    else:\n",
    "        app.append('non-free')\n",
    "apps_data[0].append('free_or_not')\n",
    "print(apps_data[:5])\n",
    "    "
   ]
  },
  {
   "cell_type": "markdown",
   "metadata": {},
   "source": [
    "## The elif Clause\n",
    "\n",
    "1. Complete the code in the editor to label each app as \"free,\" \"affordable,\" \"expensive,\" or \"very expensive.\" Inside the loop:\n",
    "    * If the price of the app is ```0```, label the app as \"free\" by appending the string ```'free'``` to the current iteration variable.\n",
    "    * If the price of the app is greater than ```0``` and less than ```20```, label the app as \"affordable\". For efficiency purposes, use an ```elif``` clause.\n",
    "    * If the price of the app is greater or equal to ```20``` and less than ```50```, label the app as \"expensive\". For efficiency purposes, use an ```elif``` clause.\n",
    "    * If the price of the app is greater or equal to ```50```, label the app as \"very expensive\". For efficiency purposes, use an ```elif``` clause.\n",
    "2. Name the newly created column \"price_label\" by appending the string ```'price_label'``` to the first row of the ```apps_data``` data set.\n",
    "3. Inspect the header row and the first five rows to see some of the changes you made.\n",
    "\n",
    "```\n",
    "# INITIAL CODE\n",
    "opened_file = open('AppleStore.csv')\n",
    "from csv import reader\n",
    "read_file = reader(opened_file)\n",
    "apps_data = list(read_file)\n",
    "\n",
    "for app in apps_data[1:]:\n",
    "    price = float(app[4])\n",
    "    # Complete code from here\n",
    "```"
   ]
  },
  {
   "cell_type": "code",
   "execution_count": 23,
   "metadata": {},
   "outputs": [
    {
     "name": "stdout",
     "output_type": "stream",
     "text": [
      "[['', 'id', 'track_name', 'size_bytes', 'currency', 'price', 'rating_count_tot', 'rating_count_ver', 'user_rating', 'user_rating_ver', 'ver', 'cont_rating', 'prime_genre', 'sup_devices.num', 'ipadSc_urls.num', 'lang.num', 'vpp_lic', 'price_label'], ['1', '281656475', 'PAC-MAN Premium', '100788224', 'USD', '3.99', '21292', '26', '4', '4.5', '6.3.5', '4+', 'Games', '38', '5', '10', '1', 'affordable'], ['2', '281796108', 'Evernote - stay organized', '158578688', 'USD', '0', '161065', '26', '4', '3.5', '8.2.2', '4+', 'Productivity', '37', '5', '23', '1', 'free'], ['3', '281940292', 'WeatherBug - Local Weather, Radar, Maps, Alerts', '100524032', 'USD', '0', '188583', '2822', '3.5', '4.5', '5.0.0', '4+', 'Weather', '37', '5', '3', '1', 'free'], ['4', '282614216', 'eBay: Best App to Buy, Sell, Save! Online Shopping', '128512000', 'USD', '0', '262241', '649', '4', '4.5', '5.10.0', '12+', 'Shopping', '37', '5', '9', '1', 'free']]\n"
     ]
    }
   ],
   "source": [
    "# INITIAL CODE\n",
    "opened_file = open('AppleStore.csv',encoding='ISO-8859-1')\n",
    "from csv import reader\n",
    "read_file = reader(opened_file)\n",
    "apps_data = list(read_file)\n",
    "\n",
    "for app in apps_data[1:]:\n",
    "    price = float(app[5])\n",
    "    # Complete code from here\n",
    "    if price == 0.0:\n",
    "        app.append('free')\n",
    "    elif price > 0.0 and price < 20.0:\n",
    "        app.append('affordable')\n",
    "    elif price > 20.0 and price < 50.0:\n",
    "        app.append('expensive')\n",
    "    elif price > 50:\n",
    "        app.append('very expensive')\n",
    "apps_data[0].append('price_label')\n",
    "print(apps_data[:5])"
   ]
  },
  {
   "cell_type": "code",
   "execution_count": null,
   "metadata": {},
   "outputs": [],
   "source": []
  }
 ],
 "metadata": {
  "kernelspec": {
   "display_name": "Python 3",
   "language": "python",
   "name": "python3"
  },
  "language_info": {
   "codemirror_mode": {
    "name": "ipython",
    "version": 3
   },
   "file_extension": ".py",
   "mimetype": "text/x-python",
   "name": "python",
   "nbconvert_exporter": "python",
   "pygments_lexer": "ipython3",
   "version": "3.7.4"
  }
 },
 "nbformat": 4,
 "nbformat_minor": 2
}
