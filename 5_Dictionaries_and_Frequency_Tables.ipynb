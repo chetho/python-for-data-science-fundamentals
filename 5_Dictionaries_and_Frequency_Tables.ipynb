{
 "cells": [
  {
   "cell_type": "markdown",
   "metadata": {},
   "source": [
    "# Dictionaries and Frequency Tables\n",
    "\n",
    "## Storing Data\n",
    "1. Store the data in the table above using two different lists.\n",
    "    * Assign the list ```['4+', '9+', '12+', '17+']``` to a variable named ```content_ratings```.\n",
    "    * Assign the list ```[4433, 987, 1155, 622]``` to a variable named ```numbers```.\n",
    "2. Store the data in the table above using a list of lists. Assign the list ```[['4+', '9+', '12+', '17+'], [4433, 987, 1155, 622]]``` to a variable named ```content_rating_numbers```."
   ]
  },
  {
   "cell_type": "code",
   "execution_count": 1,
   "metadata": {},
   "outputs": [],
   "source": [
    "content_ratings = ['4+', '9+', '12+', '17+']\n",
    "numbers = [4433, 987, 1155, 622]\n",
    "content_rating_numbers = []\n",
    "content_rating_numbers.append(content_ratings)\n",
    "content_rating_numbers.append(numbers)"
   ]
  },
  {
   "cell_type": "markdown",
   "metadata": {},
   "source": [
    "## Dictionaries\n",
    "\n",
    "1. Map content ratings to their corresponding numbers by recreating the dictionary above: ```{'4+': 4433, '9+': 987, '12+': 1155, '17+': 622}```. Assign the dictionary to a variable named ```content_ratings```.\n",
    "2. Print ```content_ratings``` and examine the output carefully. Has the order we used to create the dictionary been preserved? In other words, is the output identical to ```{'4+': 4433, '9+': 987, '12+': 1155, '17+': 622}```? We'll discuss more about this on the next screen."
   ]
  },
  {
   "cell_type": "code",
   "execution_count": 2,
   "metadata": {},
   "outputs": [
    {
     "name": "stdout",
     "output_type": "stream",
     "text": [
      "{'4+': 4433, '9+': 987, '12+': 1155, '17+': 622}\n"
     ]
    }
   ],
   "source": [
    "content_ratings = {'4+': 4433, '9+': 987, '12+': 1155, '17+': 622}\n",
    "print(content_ratings)"
   ]
  },
  {
   "cell_type": "markdown",
   "metadata": {},
   "source": [
    "## Indexing\n",
    "1. Retrieve values from the content_ratings dictionary.\n",
    "    * Assign the value at index '9+' to a variable named over_9.\n",
    "    * Assign the value at index '17+' to a variable named over_17.\n",
    "2. Print over_9 and over_17.\n",
    "\n",
    "```\n",
    "# Code Snippet\n",
    "content_ratings = {'4+': 4433, '9+': 987, '12+': 1155, '17+': 622}\n",
    "```"
   ]
  },
  {
   "cell_type": "code",
   "execution_count": 3,
   "metadata": {},
   "outputs": [
    {
     "name": "stdout",
     "output_type": "stream",
     "text": [
      "987\n",
      "622\n"
     ]
    }
   ],
   "source": [
    "content_ratings = {'4+': 4433, '9+': 987, '12+': 1155, '17+': 622}\n",
    "over_9 = content_ratings['9+']\n",
    "over_17 = content_ratings['17+']\n",
    "print(over_9)\n",
    "print(over_17)"
   ]
  },
  {
   "cell_type": "markdown",
   "metadata": {},
   "source": [
    "## Alternative Way of Creating a Dictionary\n",
    "\n",
    "1. Use the new technique we learned to map content ratings to their corresponding numbers inside a dictionary.\n",
    "    * Create an empty dictionary named ```content_ratings```.\n",
    "    * Add the ```index:value``` pairs one by one using the ```dictionary_name[index] = value``` technique. This should be the final form of the dictionary: ```{'4+': 4433, '9+': 987, '12+': 1155, '17+': 622}```.\n",
    "2. Retrieve the value at index ```12+``` from the ```content_ratings``` dictionary. Assign it to a variable named ```over_12_n_apps```."
   ]
  },
  {
   "cell_type": "code",
   "execution_count": 4,
   "metadata": {},
   "outputs": [],
   "source": [
    "content_ratings = {}\n",
    "content_ratings['4+'] = 4433\n",
    "content_ratings['9+'] = 987\n",
    "content_ratings['12+'] = 1155\n",
    "content_ratings['17+'] = 622\n",
    "over_12_n_apps = content_ratings['12+']"
   ]
  },
  {
   "cell_type": "markdown",
   "metadata": {},
   "source": [
    "## Key-Value Pairs\n",
    "\n",
    "1. Create the following dictionary and assign it to a variable named ```d_1```:\n",
    "```\n",
    "{'key_1': 'first_value', \n",
    " 'key_2': 2,\n",
    " 'key_3': 3.14,\n",
    " 'key_4': True,\n",
    " 'key_5': [4,2,1],\n",
    " 'key_6': {'inner_key' : 6}\n",
    " }\n",
    "```\n",
    "\n",
    "2. Examine the code below and determine whether it'll raise an error or not. If you think it'll raise an error, then assign the boolean ```True``` to a variable named ```error```, otherwise assign ```False```.\n",
    "```\n",
    "{4: 'four',\n",
    "1.5: 'one point five',\n",
    "'string_key': 'string_value',\n",
    "True: 'True',\n",
    "[1,2,3]: 'a list',\n",
    "{10: 'ten'}: 'a dictionary'}\n",
    "```"
   ]
  },
  {
   "cell_type": "code",
   "execution_count": 5,
   "metadata": {},
   "outputs": [],
   "source": [
    "d_1 = {\n",
    "    'key_1': 'first_value', \n",
    "    'key_2': 2, 'key_3': 3.14,\n",
    "    'key_4': True,\n",
    "    'key_5': [4,2,1],\n",
    "    'key_6': {'inner_key' : 6}\n",
    " }\n",
    "error = True"
   ]
  },
  {
   "cell_type": "markdown",
   "metadata": {},
   "source": [
    "## Checking for Membership\n",
    "\n",
    "1. Using the ```in``` operator, check whether the following values exist as dictionary keys in the ```content_ratings``` dictionary:\n",
    "    * The string ```'9+'```. Assign the output of the expression to a variable named `is_in_dictionary_1`.\n",
    "    * The integer `987`. Assign the output of the expression to a variable named `is_in_dictionary_2`.\n",
    "\n",
    "2. Combine the output of an expression containing `in` with an `if` statement. If the string `'17+'` exists as dictionary key in `content_ratings`, then:\n",
    "    * Assign the string `\"It exists\"` to a variable named `result`.\n",
    "    * Print the `result` variable.\n",
    "\n",
    "```\n",
    "# Code Snippet\n",
    "content_ratings = {'4+': 4433, '9+': 987, '12+': 1155, '17+': 622}\n",
    "```"
   ]
  },
  {
   "cell_type": "code",
   "execution_count": 6,
   "metadata": {},
   "outputs": [
    {
     "name": "stdout",
     "output_type": "stream",
     "text": [
      "It exists\n"
     ]
    }
   ],
   "source": [
    "content_ratings = {'4+': 4433, '9+': 987, '12+': 1155, '17+': 622}\n",
    "is_in_dictionary_1 = '9+' in content_ratings\n",
    "is_in_dictionary_2 = 987 in content_ratings\n",
    "if '17+' in content_ratings:\n",
    "    result = 'It exists'\n",
    "print(result)"
   ]
  },
  {
   "cell_type": "markdown",
   "metadata": {},
   "source": [
    "## Counting with Dictionaries\n",
    "\n",
    "* Count the number of times each unique content rating occurs in the data set.\n",
    "    1. Create a dictionary named `content_ratings` where the keys are the unique content ratings and the values are all 0 (the values of 0 are temporary at this point, and they'll be updated).\n",
    "    2. Loop through the `apps_data` list of lists. Make sure you don't include the header row. For each iteration of the loop:\n",
    "        * Assign the content rating value to a variable named `c_rating`. The content rating is at index number `10` in each row.\n",
    "        * Check whether `c_rating` exists as a key in `content_ratings`. If it exists, then increment the dictionary value at that key by `1` (the key is equivalent to the value stored in `c_rating`).\n",
    "    3. Outside the loop, print `content_ratings` to check whether the counting worked as expected.\n",
    "\n",
    "```\n",
    "# Code Snippet\n",
    "\n",
    "opened_file = open('AppleStore.csv',encoding='ISO-8859-1')\n",
    "from csv import reader\n",
    "read_file = reader(opened_file)\n",
    "apps_data = list(read_file)\n",
    "```"
   ]
  },
  {
   "cell_type": "code",
   "execution_count": 8,
   "metadata": {},
   "outputs": [
    {
     "name": "stdout",
     "output_type": "stream",
     "text": [
      "{'4+': 4433, '12+': 1155, '17+': 622, '9+': 987}\n"
     ]
    }
   ],
   "source": [
    "opened_file = open('AppleStore.csv',encoding='ISO-8859-1')\n",
    "from csv import reader\n",
    "read_file = reader(opened_file)\n",
    "apps_data = list(read_file)\n",
    "content_ratings = {}\n",
    "for row in apps_data[1:]:\n",
    "    c_rating = row[11]\n",
    "    if c_rating in content_ratings:\n",
    "        content_ratings[c_rating] += 1\n",
    "    else:\n",
    "        content_ratings[c_rating] = 1\n",
    "print(content_ratings)"
   ]
  },
  {
   "cell_type": "markdown",
   "metadata": {},
   "source": [
    "## Finding the Unique Values\n",
    "\n",
    "* Count the number of times each unique content rating occurs in the data set while finding the unique values automatically.\n",
    "    1. Create an empty dictionary named `content_ratings`.\n",
    "    2. Loop through the `apps_data` list of lists (make sure you don't include the header row). For each iteration of the loop:\n",
    "        * Assign the content rating value to a variable named `c_rating`. The content rating is at index number `10`.\n",
    "        * Check whether `c_rating` exists as a key in `content_ratings`.\n",
    "            * If it exists, then increment the dictionary value at that key by `1` (the key is equivalent to the value stored in `c_rating`).\n",
    "            * Else, create a new key-value pair in the dictionary, where the dictionary key is `c_rating` and the dictionary value is `1`.\n",
    "    3. Outside the loop, print `content_ratings` to check whether the counting worked as expected.\n",
    "\n",
    "```\n",
    "#Code Snippet\n",
    "opened_file = open('AppleStore.csv',encoding='ISO-8859-1')\n",
    "from csv import reader\n",
    "read_file = reader(opened_file)\n",
    "apps_data = list(read_file)\n",
    "```"
   ]
  },
  {
   "cell_type": "code",
   "execution_count": 11,
   "metadata": {},
   "outputs": [
    {
     "name": "stdout",
     "output_type": "stream",
     "text": [
      "{'4+': 4433, '12+': 1155, '17+': 622, '9+': 987}\n"
     ]
    }
   ],
   "source": [
    "opened_file = open('AppleStore.csv',encoding='ISO-8859-1')\n",
    "from csv import reader\n",
    "read_file = reader(opened_file)\n",
    "apps_data = list(read_file)\n",
    "content_ratings = {}\n",
    "for row in apps_data[1:]:\n",
    "    c_rating = row[11]\n",
    "    if c_rating in content_ratings:\n",
    "        content_ratings[c_rating] += 1\n",
    "    else:\n",
    "        content_ratings[c_rating] = 1\n",
    "print(content_ratings)"
   ]
  },
  {
   "cell_type": "markdown",
   "metadata": {},
   "source": [
    "## Proportions and Percentages\n",
    "* Count the number of times each unique genre occurs.\n",
    "    1. Create an empty dictionary named `genre_counting`.\n",
    "    2. Loop through the `apps_data` list of lists (make sure you don't include the header row). For each iteration of the loop:\n",
    "        * Assign the genre to a variable named `genre`. The genre comes as a string and has the index number 11.\n",
    "        * Check whether `genre` exists as a key in `genre_counting`.\n",
    "            * If it exists, then increment the dictionary value at that key by 1 (the key is equivalent to the value stored in `genre`).\n",
    "            * Else, create a new key-value pair in the dictionary, where the dictionary key is `genre` and the dictionary value is `1`.\n",
    "    3. Outside the loop, print `genre_counting` and try to determine what's the most common app genre in our data set."
   ]
  },
  {
   "cell_type": "code",
   "execution_count": 14,
   "metadata": {},
   "outputs": [
    {
     "name": "stdout",
     "output_type": "stream",
     "text": [
      "{'Games': 3862, 'Productivity': 178, 'Weather': 72, 'Shopping': 122, 'Reference': 64, 'Finance': 104, 'Music': 138, 'Utilities': 248, 'Travel': 81, 'Social Networking': 167, 'Sports': 114, 'Business': 57, 'Health & Fitness': 180, 'Entertainment': 535, 'Photo & Video': 349, 'Navigation': 46, 'Education': 453, 'Lifestyle': 144, 'Food & Drink': 63, 'News': 75, 'Book': 112, 'Medical': 23, 'Catalogs': 10}\n"
     ]
    }
   ],
   "source": [
    "opened_file = open('AppleStore.csv',encoding='ISO-8859-1')\n",
    "from csv import reader\n",
    "read_file = reader(opened_file)\n",
    "apps_data = list(read_file)\n",
    "genre_counting = {}\n",
    "for row in apps_data[1:]:\n",
    "    genre = row[12]\n",
    "    if genre in genre_counting:\n",
    "        genre_counting[genre] += 1\n",
    "    else:\n",
    "        genre_counting[genre] = 1\n",
    "print(genre_counting)"
   ]
  },
  {
   "cell_type": "markdown",
   "metadata": {},
   "source": [
    "## Looping over Dictionaries\n",
    "Loop over the `content_ratings` dictionary and transform the frequencies to percentages. For every iteration of the loop:\n",
    "\n",
    "Transform the dictionary value (the frequency) to a proportion by dividing it by the total number of apps.\n",
    "Transform the updated dictionary value (the proportion) to a percentage by multiplying it by 100.\n",
    "Find out the percentage of apps that have a content rating of `'17+'`. Assign your answer to a variable named `percentage_17_plus`.\n",
    "\n",
    "Find out the percentage of apps that can be downloaded by a 15-year-old. Assign your answer to a variable named `percentage_15_allowed`.\n",
    "\n",
    "```\n",
    "#Code Snippet\n",
    "content_ratings = {'4+': 4433, '12+': 1155, '9+': 987, '17+': 622}\n",
    "total_number_of_apps = 7197\n",
    "```"
   ]
  },
  {
   "cell_type": "code",
   "execution_count": 16,
   "metadata": {},
   "outputs": [],
   "source": [
    "content_ratings = {'4+': 4433, '12+': 1155, '9+': 987, '17+': 622}\n",
    "total_number_of_apps = 7197\n",
    "percentage_15_allowed = 0\n",
    "percentage_17_plus = 0\n",
    "for row in content_ratings:\n",
    "    content_ratings[row] /= total_number_of_apps\n",
    "    content_ratings[row] *= 100\n",
    "    if row == '17+':\n",
    "        percentage_17_plus = content_ratings[row]\n",
    "    else:\n",
    "        percentage_15_allowed += content_ratings[row]"
   ]
  },
  {
   "cell_type": "markdown",
   "metadata": {},
   "source": [
    "## Keeping the Dictionaries Separate\n",
    "1. Transform the frequencies inside `content_ratings` to proportions and percentages while creating separate dictionaries for each.\n",
    "    * Assign the dictionary storing proportions to a variable named `c_ratings_proportions`.\n",
    "    * Assign the dictionary storing percentages to a variable named `c_ratings_percentages`.\n",
    "2. Optional challenge: try to solve this exercise using a single for loop (solution to this challenge provided).\n",
    "\n",
    "```\n",
    "#Code Snippet\n",
    "content_ratings = {'4+': 4433, '12+': 1155, '9+': 987, '17+': 622}\n",
    "total_number_of_apps = 7197\n",
    "```"
   ]
  },
  {
   "cell_type": "code",
   "execution_count": 17,
   "metadata": {},
   "outputs": [],
   "source": [
    "content_ratings = {'4+': 4433, '12+': 1155, '9+': 987, '17+': 622}\n",
    "total_number_of_apps = 7197\n",
    "c_ratings_percentages = {}\n",
    "c_ratings_proportions = {}\n",
    "for row in content_ratings:\n",
    "    c_ratings_proportions[row] = content_ratings[row] / total_number_of_apps\n",
    "    c_ratings_percentages[row] = c_ratings_proportions[row] * 100"
   ]
  },
  {
   "cell_type": "markdown",
   "metadata": {},
   "source": [
    "## Frequency Tables for Numerical Columns\n",
    "1. Extract the values in the `size_bytes` column in a separate list.\n",
    "    * Create an empty list named `data_sizes`.\n",
    "    * Loop through `apps_data` (make sure you don't include the header row) and for every iteration:\n",
    "        * Store the data size as a float in a variable named `size` (the index number for the data size is 2).\n",
    "        * Append `size` to the `data_sizes` list.\n",
    "2. Find out the minimum and the maximum app data size.\n",
    "    * Assign the minimum value to a variable named `min_size`.\n",
    "    * Assign the maximum value to a variable named `max_size`.\n",
    "\n",
    "```\n",
    "#Code Snippet\n",
    "opened_file = open('AppleStore.csv',encoding='ISO-8859-1')\n",
    "from csv import reader\n",
    "read_file = reader(opened_file)\n",
    "apps_data = list(read_file)\n",
    "```"
   ]
  },
  {
   "cell_type": "code",
   "execution_count": 21,
   "metadata": {},
   "outputs": [],
   "source": [
    "opened_file = open('AppleStore.csv',encoding='ISO-8859-1')\n",
    "from csv import reader\n",
    "read_file = reader(opened_file)\n",
    "apps_data = list(read_file)\n",
    "data_sizes = []\n",
    "for row in apps_data[1:]:\n",
    "    size = float(row[3])\n",
    "    data_sizes.append(size)\n",
    "min_size = min(data_sizes)\n",
    "max_size = max(data_sizes)"
   ]
  },
  {
   "cell_type": "markdown",
   "metadata": {},
   "source": [
    "## Filtering for the Intervals\n",
    "\n",
    "Begin by finding the minimum and maximum value in the rating_count_tot column.\n",
    "\n",
    "Extract the values in the rating_count_tot column (index number 5) in a separate list (don't forget to convert to integer or float).\n",
    "Find out the minimum and maximum value of that list using the min() and the max() commands.\n",
    "Based on the minimum and maximum value you've found, choose a few intervals (try to choose five intervals or less).\n",
    "\n",
    "We've disabled answer checking for this exercise to give you the freedom to choose the intervals you find suitable (there's not a fixed solution for this exercise). You can see the intervals we chose in the solution.\n",
    "Once you've chosen the intervals, compute the frequency of apps for each interval. Store the frequency table in a dictionary.\n",
    "\n",
    "Create a dictionary with intervals as dictionary keys and zeros as dictionary values.\n",
    "Loop through the apps_data data set. Count the frequency of each interval using an if statement followed by a series of elif clauses.\n",
    "Inspect the frequency table and analyze the results.\n",
    "\n",
    "```\n",
    "#Code Snippet\n",
    "opened_file = open('AppleStore.csv',encoding='ISO-8859-1')\n",
    "from csv import reader\n",
    "read_file = reader(opened_file)\n",
    "apps_data = list(read_file)\n",
    "```"
   ]
  },
  {
   "cell_type": "code",
   "execution_count": 27,
   "metadata": {},
   "outputs": [
    {
     "name": "stdout",
     "output_type": "stream",
     "text": [
      "0.0\n",
      "2974676.0\n",
      "{'0 - 750000': 7187, '750000 - 1500000': 6, '1500000 - 2250000': 3, '2500000+': 1}\n"
     ]
    }
   ],
   "source": [
    "opened_file = open('AppleStore.csv',encoding='ISO-8859-1')\n",
    "from csv import reader\n",
    "read_file = reader(opened_file)\n",
    "apps_data = list(read_file)\n",
    "ratings = []\n",
    "for row in apps_data[1:]:\n",
    "    rating_count_tot = float(row[6])\n",
    "    ratings.append(rating_count_tot)\n",
    "ratings_min = min(ratings)\n",
    "ratings_max = max(ratings)\n",
    "print(ratings_min)\n",
    "print(ratings_max)\n",
    "intervals = {'0 - 750000': 0, '750000 - 1500000': 0, '1500000 - 2250000': 0, '2500000+': 0}\n",
    "for row in apps_data[1:]:\n",
    "    rating_count_tot = float(row[6])\n",
    "    if rating_count_tot <= 750000:\n",
    "        intervals['0 - 750000'] += 1\n",
    "    elif 750000 < rating_count_tot <= 1500000:\n",
    "        intervals['750000 - 1500000'] += 1\n",
    "    elif 1500000 < rating_count_tot <= 2250000:\n",
    "        intervals['1500000 - 2250000'] += 1\n",
    "    elif rating_count_tot > 2500000:\n",
    "        intervals['2500000+'] += 1\n",
    "print(intervals)"
   ]
  }
 ],
 "metadata": {
  "kernelspec": {
   "display_name": "Python 3",
   "language": "python",
   "name": "python3"
  },
  "language_info": {
   "codemirror_mode": {
    "name": "ipython",
    "version": 3
   },
   "file_extension": ".py",
   "mimetype": "text/x-python",
   "name": "python",
   "nbconvert_exporter": "python",
   "pygments_lexer": "ipython3",
   "version": "3.7.4"
  }
 },
 "nbformat": 4,
 "nbformat_minor": 2
}
