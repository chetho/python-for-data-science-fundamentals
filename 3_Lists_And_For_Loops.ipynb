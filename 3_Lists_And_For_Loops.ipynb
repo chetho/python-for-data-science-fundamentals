{
 "cells": [
  {
   "cell_type": "markdown",
   "metadata": {},
   "source": [
    "# Lists and For Loops\n",
    "## Lists\n",
    "\n",
    "1. Store the second row (```'Instagram', 0.0, 'USD', 2161558, 4.5```) as a list in a variable named ```row_2```.\n",
    "2. Store the third row (```'Clash of Clans', 0.0, 'USD', 2130805, 4.5```) as a list in a variable named ```row_3```."
   ]
  },
  {
   "cell_type": "code",
   "execution_count": 1,
   "metadata": {},
   "outputs": [],
   "source": [
    "row_2 = ['Instagram', 0.0, 'USD', 2161558, 4.5]\n",
    "row_3 = ['Clash of Clans', 0.0, 'USD', 2130805, 4.5]"
   ]
  },
  {
   "cell_type": "markdown",
   "metadata": {},
   "source": [
    "## Indexing\n",
    "In the code snippet, you can already see the lists for the first three rows.\n",
    "\n",
    "The fourth element in each list describes the number of ratings an app has received. Retrieve this fourth element from each list, and then find the average value of the retrieved numbers.\n",
    "1. Assign the fourth element from the list ```row_1``` to a variable named ```ratings_1```. Don't forget that the indexing starts at 0.\n",
    "2. Assign the fourth element from the list ```row_2``` to a variable named ```ratings_2```.\n",
    "3. Assign the fourth element from the list ```row_3``` to a variable named ```ratings_3```.\n",
    "4. Add the three numbers retrieved together and save the sum to a variable named ```total```.\n",
    "5. Divide the sum (now saved in the variable ```total```) by ```3``` to get the average number of ratings for the first three rows. Assign the result to a variable named ```average```.\n",
    "\n",
    "```\n",
    "# Code Snippet\n",
    "row_1 = ['Facebook', 0.0, 'USD', 2974676, 3.5]\n",
    "row_2 = ['Instagram', 0.0, 'USD', 2161558, 4.5]\n",
    "row_3 = ['Clash of Clans', 0.0, 'USD', 2130805, 4.5]\n",
    "```"
   ]
  },
  {
   "cell_type": "code",
   "execution_count": 2,
   "metadata": {},
   "outputs": [],
   "source": [
    "row_1 = ['Facebook', 0.0, 'USD', 2974676, 3.5]\n",
    "row_2 = ['Instagram', 0.0, 'USD', 2161558, 4.5]\n",
    "row_3 = ['Clash of Clans', 0.0, 'USD', 2130805, 4.5]\n",
    "\n",
    "ratings_1 = row_1[3]\n",
    "ratings_2 = row_2[3]\n",
    "ratings_3 = row_3[3]\n",
    "\n",
    "total = ratings_1 + ratings_2 + ratings_3\n",
    "average = total / 3"
   ]
  },
  {
   "cell_type": "markdown",
   "metadata": {},
   "source": [
    "## Negative Indexing\n",
    "The last element in each list shows the average rating of each application.\n",
    "\n",
    "Retrieve the ratings for the first three rows, and then find the average value of all the ratings retrieved.\n",
    "\n",
    "1. Assign the last element from the list ```row_1``` to a variable named ```rating_1```. Try to take advantage of negative indexing.\n",
    "2. Assign the last element from the list ```row_2``` to a variable named ```rating_2```.\n",
    "3. Assign the last element from the list ```row_3``` to a variable named ```rating_3```.\n",
    "4. Add the three ratings together and save the sum to a variable named ```total_rating```.\n",
    "5. Divide the total by 3 to get the average rating. Assign the result to a variable named ```average_rating```.\n",
    "\n",
    "```\n",
    "# Code Snippet\n",
    "row_1 = ['Facebook', 0.0, 'USD', 2974676, 3.5]\n",
    "row_2 = ['Instagram', 0.0, 'USD', 2161558, 4.5]\n",
    "row_3 = ['Clash of Clans', 0.0, 'USD', 2130805, 4.5]\n",
    "```"
   ]
  },
  {
   "cell_type": "code",
   "execution_count": 4,
   "metadata": {},
   "outputs": [],
   "source": [
    "row_1 = ['Facebook', 0.0, 'USD', 2974676, 3.5]\n",
    "row_2 = ['Instagram', 0.0, 'USD', 2161558, 4.5]\n",
    "row_3 = ['Clash of Clans', 0.0, 'USD', 2130805, 4.5]\n",
    "\n",
    "rating_1 = row_1[-1]\n",
    "rating_2 = row_2[-1]\n",
    "rating_3 = row_3[-1]\n",
    "\n",
    "total_rating = rating_1 + rating_2 + rating_3\n",
    "average_rating = total_rating / 3"
   ]
  },
  {
   "cell_type": "markdown",
   "metadata": {},
   "source": [
    "## Retrieving Multiple List Elements\n",
    "1. For Facebook, Instagram, and Pandora — Music & Radio, isolate the rating data in separate lists. Each list should contain the name of the app, the rating count, and the user rating. Don't forget that indexing starts at ```0```.\n",
    "    * For Facebook, assign the list to a variable named ```fb_rating_data```.\n",
    "    * For Instagram, assign the list to a variable named ```insta_rating_data```.\n",
    "    * For Pandora — Music & Radio, assign the list to a variable named ```pandora_rating_data```.\n",
    "2. Compute the average user rating for Facebook, Instagram, and Pandora — Music & Radio using the data you stored in ```fb_rating_data```, ```insta_rating_data```, and ```pandora_rating_data```.\n",
    "    * You'll need to add the ratings together first, and then divide the total by the number of ratings.\n",
    "    * Assign the result to a variable named ```avg_rating```.\n",
    "    * As a side note, we could calculate the average rating here a little bit better using the weighted mean — we'll learn about the weighted mean in the statistics courses.\n",
    "    \n",
    "```\n",
    "# Code Snippet\n",
    "row_1 = ['Facebook', 0.0, 'USD', 2974676, 3.5]\n",
    "row_2 = ['Instagram', 0.0, 'USD', 2161558, 4.5]\n",
    "row_3 = ['Clash of Clans', 0.0, 'USD', 2130805, 4.5]\n",
    "row_4 = ['Temple Run', 0.0, 'USD', 1724546, 4.5]\n",
    "row_5 = ['Pandora - Music & Radio', 0.0, 'USD', 1126879, 4.0]\n",
    "```"
   ]
  },
  {
   "cell_type": "code",
   "execution_count": 5,
   "metadata": {},
   "outputs": [],
   "source": [
    "row_1 = ['Facebook', 0.0, 'USD', 2974676, 3.5]\n",
    "row_2 = ['Instagram', 0.0, 'USD', 2161558, 4.5]\n",
    "row_3 = ['Clash of Clans', 0.0, 'USD', 2130805, 4.5]\n",
    "row_4 = ['Temple Run', 0.0, 'USD', 1724546, 4.5]\n",
    "row_5 = ['Pandora - Music & Radio', 0.0, 'USD', 1126879, 4.0]\n",
    "\n",
    "fb_rating_data = [row_1[0],row_1[3],row_1[4]]\n",
    "insta_rating_data = [row_2[0],row_2[3],row_2[4]]\n",
    "pandora_rating_data = [row_5[0],row_5[3],row_5[4]]\n",
    "\n",
    "ratings = fb_rating_data[2] + insta_rating_data[2] + pandora_rating_data[2]\n",
    "avg_rating = ratings / 3"
   ]
  },
  {
   "cell_type": "markdown",
   "metadata": {},
   "source": [
    "## List Slicing\n",
    "1. Select the first four elements from ```row_1``` using a list slicing syntax shortcut. Assign the output to a variable named ```first_4_fb```.\n",
    "2. Select the last three elements from ```row_1``` using a list slicing syntax shortcut. Assign the output to a variable named ```last_3_fb```.\n",
    "3. From ```row_5```, select the list slice ```['USD', 1126879]``` using a list slicing syntax shortcut. Assign the output to a variable named ```pandora_3_4```.\n",
    "\n",
    "```\n",
    "# Code Snippet\n",
    "row_1 = ['Facebook', 0.0, 'USD', 2974676, 3.5]\n",
    "row_2 = ['Instagram', 0.0, 'USD', 2161558, 4.5]\n",
    "row_3 = ['Clash of Clans', 0.0, 'USD', 2130805, 4.5]\n",
    "row_4 = ['Temple Run', 0.0, 'USD', 1724546, 4.5]\n",
    "row_5 = ['Pandora - Music & Radio', 0.0, 'USD', 1126879, 4.0]\n",
    "```"
   ]
  },
  {
   "cell_type": "code",
   "execution_count": 6,
   "metadata": {},
   "outputs": [],
   "source": [
    "row_1 = ['Facebook', 0.0, 'USD', 2974676, 3.5]\n",
    "row_2 = ['Instagram', 0.0, 'USD', 2161558, 4.5]\n",
    "row_3 = ['Clash of Clans', 0.0, 'USD', 2130805, 4.5]\n",
    "row_4 = ['Temple Run', 0.0, 'USD', 1724546, 4.5]\n",
    "row_5 = ['Pandora - Music & Radio', 0.0, 'USD', 1126879, 4.0]\n",
    "\n",
    "first_4_fb = row_1[:4]\n",
    "last_3_fb = row_1[-3:]\n",
    "pandora_3_4 = row_5[2:4]"
   ]
  },
  {
   "cell_type": "markdown",
   "metadata": {},
   "source": [
    "## List of Lists\n",
    "1. In the code editor, we've already stored the five rows as lists in separate variables. Group together the five lists in a list of lists. Assign the resulting list of lists to a variable named ```app_data_set```.\n",
    "3. Compute the average rating of the apps by retrieving the right data points from the ```app_data_set``` list of lists.\n",
    "    * The rating is the last element of each row. You'll need to sum up the ratings and then divide by the number of ratings.\n",
    "    * Assign the result to a variable named ```avg_rating```.\n",
    "    \n",
    "```\n",
    "# Code Snippet\n",
    "row_1 = ['Facebook', 0.0, 'USD', 2974676, 3.5]\n",
    "row_2 = ['Instagram', 0.0, 'USD', 2161558, 4.5]\n",
    "row_3 = ['Clash of Clans', 0.0, 'USD', 2130805, 4.5]\n",
    "row_4 = ['Temple Run', 0.0, 'USD', 1724546, 4.5]\n",
    "row_5 = ['Pandora - Music & Radio', 0.0, 'USD', 1126879, 4.0]\n",
    "```"
   ]
  },
  {
   "cell_type": "code",
   "execution_count": 7,
   "metadata": {},
   "outputs": [],
   "source": [
    "row_1 = ['Facebook', 0.0, 'USD', 2974676, 3.5]\n",
    "row_2 = ['Instagram', 0.0, 'USD', 2161558, 4.5]\n",
    "row_3 = ['Clash of Clans', 0.0, 'USD', 2130805, 4.5]\n",
    "row_4 = ['Temple Run', 0.0, 'USD', 1724546, 4.5]\n",
    "row_5 = ['Pandora - Music & Radio', 0.0, 'USD', 1126879, 4.0]\n",
    "\n",
    "app_data_set = [row_1, row_2, row_3, row_4, row_5]\n",
    "\n",
    "avg_rating = (app_data_set[0][4] + app_data_set[1][4] + app_data_set[2][4] + app_data_set[3][4] + app_data_set[4][4]) / 5"
   ]
  },
  {
   "cell_type": "markdown",
   "metadata": {},
   "source": [
    "## Opening a File\n",
    "Open the ```AppleStore.csv``` file and store it as list of lists.\n",
    "1. Open the file using the ```open()``` command. Save the output to a variable named ```opened_file```.\n",
    "2. Read in the opened file using the ```reader()``` command (we've already imported ```reader()``` for you from the ```csv``` module). Save the output to a variable named ```read_file```.\n",
    "3. Transform the read-in file to a list of lists using the ```list()``` command. Save the list of lists to a variable named ```apps_data```.\n",
    "4. Explore ```apps_data```. You could:\n",
    "    * Print its length using the ```len()``` command\n",
    "    * Print the first row (the row describing column names)\n",
    "    * Print the second and the third row (try to use list slicing here)\n",
    "    \n",
    "```\n",
    "#Code Snippet\n",
    "from csv import reader\n",
    "```"
   ]
  },
  {
   "cell_type": "code",
   "execution_count": 4,
   "metadata": {},
   "outputs": [
    {
     "name": "stdout",
     "output_type": "stream",
     "text": [
      "7198\n",
      "['', 'id', 'track_name', 'size_bytes', 'currency', 'price', 'rating_count_tot', 'rating_count_ver', 'user_rating', 'user_rating_ver', 'ver', 'cont_rating', 'prime_genre', 'sup_devices.num', 'ipadSc_urls.num', 'lang.num', 'vpp_lic']\n",
      "[['1', '281656475', 'PAC-MAN Premium', '100788224', 'USD', '3.99', '21292', '26', '4', '4.5', '6.3.5', '4+', 'Games', '38', '5', '10', '1'], ['2', '281796108', 'Evernote - stay organized', '158578688', 'USD', '0', '161065', '26', '4', '3.5', '8.2.2', '4+', 'Productivity', '37', '5', '23', '1']]\n"
     ]
    }
   ],
   "source": [
    "from csv import reader\n",
    "\n",
    "opened_file = open('AppleStore.csv',encoding='ISO-8859-1')\n",
    "read_file = reader(opened_file)\n",
    "apps_data = list(read_file)\n",
    "\n",
    "print(len(apps_data))\n",
    "print(apps_data[0])\n",
    "print(apps_data[1:3])"
   ]
  },
  {
   "cell_type": "markdown",
   "metadata": {},
   "source": [
    "## Repetitive Processes\n",
    "1. Use the new technique we've learned to print all the rows in the ```app_data_set``` list of lists.\n",
    "    * Essentially, you'll need to translate this pattern into Python syntax: ```for``` each list in the ```app_data_set``` variable, print that list.\n",
    "    * Don't forget about indentation\n",
    "    \n",
    "```\n",
    "#Code Snippet\n",
    "\n",
    "row_1 = ['Facebook', 0.0, 'USD', 2974676, 3.5]\n",
    "row_2 = ['Instagram', 0.0, 'USD', 2161558, 4.5]\n",
    "row_3 = ['Clash of Clans', 0.0, 'USD', 2130805, 4.5]\n",
    "row_4 = ['Temple Run', 0.0, 'USD', 1724546, 4.5]\n",
    "row_5 = ['Pandora - Music & Radio', 0.0, 'USD', 1126879, 4.0]\n",
    "\n",
    "app_data_set = [row_1, row_2, row_3, row_4, row_5]\n",
    "```"
   ]
  },
  {
   "cell_type": "code",
   "execution_count": 5,
   "metadata": {},
   "outputs": [
    {
     "name": "stdout",
     "output_type": "stream",
     "text": [
      "['Facebook', 0.0, 'USD', 2974676, 3.5]\n",
      "['Instagram', 0.0, 'USD', 2161558, 4.5]\n",
      "['Clash of Clans', 0.0, 'USD', 2130805, 4.5]\n",
      "['Temple Run', 0.0, 'USD', 1724546, 4.5]\n",
      "['Pandora - Music & Radio', 0.0, 'USD', 1126879, 4.0]\n"
     ]
    }
   ],
   "source": [
    "row_1 = ['Facebook', 0.0, 'USD', 2974676, 3.5]\n",
    "row_2 = ['Instagram', 0.0, 'USD', 2161558, 4.5]\n",
    "row_3 = ['Clash of Clans', 0.0, 'USD', 2130805, 4.5]\n",
    "row_4 = ['Temple Run', 0.0, 'USD', 1724546, 4.5]\n",
    "row_5 = ['Pandora - Music & Radio', 0.0, 'USD', 1126879, 4.0]\n",
    "\n",
    "app_data_set = [row_1, row_2, row_3, row_4, row_5]\n",
    "for each_list in app_data_set:\n",
    "    print(each_list)"
   ]
  },
  {
   "cell_type": "markdown",
   "metadata": {},
   "source": [
    "## For Loops\n",
    "Compute the average app rating for the apps stored in the ```app_data_set``` variable.\n",
    "\n",
    "1. Initialize a variable named ```rating_sum``` with a value of zero outside the loop body.\n",
    "2. Loop (iterate) over the ```app_data_set``` list of lists. For each of the five iterations of the loop (for each row in ```app_data_set```):\n",
    "3. Extract the rating of the app and store it to a variable named ```rating```. The rating is the last element of each row.\n",
    "4. Add the value stored in ```rating``` to the current value of the ```rating_sum```.\n",
    "5. Outside the loop body, divide the rating sum (stored in ```rating_sum```) by the number of ratings to get an average value. Store the result in a variable named ```avg_rating```.\n",
    "\n",
    "```\n",
    "# Code Snippet\n",
    "\n",
    "row_1 = ['Facebook', 0.0, 'USD', 2974676, 3.5]\n",
    "row_2 = ['Instagram', 0.0, 'USD', 2161558, 4.5]\n",
    "row_3 = ['Clash of Clans', 0.0, 'USD', 2130805, 4.5]\n",
    "row_4 = ['Temple Run', 0.0, 'USD', 1724546, 4.5]\n",
    "row_5 = ['Pandora - Music & Radio', 0.0, 'USD', 1126879, 4.0]\n",
    "\n",
    "app_data_set = [row_1, row_2, row_3, row_4, row_5]\n",
    "```"
   ]
  },
  {
   "cell_type": "code",
   "execution_count": 6,
   "metadata": {},
   "outputs": [],
   "source": [
    "row_1 = ['Facebook', 0.0, 'USD', 2974676, 3.5]\n",
    "row_2 = ['Instagram', 0.0, 'USD', 2161558, 4.5]\n",
    "row_3 = ['Clash of Clans', 0.0, 'USD', 2130805, 4.5]\n",
    "row_4 = ['Temple Run', 0.0, 'USD', 1724546, 4.5]\n",
    "row_5 = ['Pandora - Music & Radio', 0.0, 'USD', 1126879, 4.0]\n",
    "\n",
    "app_data_set = [row_1, row_2, row_3, row_4, row_5]\n",
    "rating_sum = 0\n",
    "for each_row in app_data_set:\n",
    "    rating_sum += each_row[-1]\n",
    "avg_rating = rating_sum / len(app_data_set)"
   ]
  },
  {
   "cell_type": "markdown",
   "metadata": {},
   "source": [
    "## The Average App Rating\n",
    "Compute the average app rating for all the 7,197 apps stored in the data set.\n",
    "\n",
    "1. Initialize a variable named ```rating_sum``` with a value of zero.\n",
    "2. Loop through the ```apps_data[1:]``` list of lists (make sure you don't include the header row). For each of the 7,197 iterations of the loop (for each row in ```apps_data[1:]```):\n",
    "    * Extract the rating of the app and store it to a variable named ```rating``` (the rating has the index number 7). Make sure you convert the rating value from a string to a float using the ```float()``` command.\n",
    "    * Add the value stored in ```rating``` to the current value of the ```rating_sum```.\n",
    "3. Divide the rating sum (stored in ```rating_sum```) by the number of ratings to get an average value. Store the result in a variable named ```avg_rating```.\n",
    "\n",
    "```\n",
    "# Code Snippet\n",
    "opened_file = open('AppleStore.csv')\n",
    "from csv import reader\n",
    "read_file = reader(opened_file)\n",
    "apps_data = list(read_file)\n",
    "```"
   ]
  },
  {
   "cell_type": "code",
   "execution_count": 8,
   "metadata": {},
   "outputs": [],
   "source": [
    "opened_file = open('AppleStore.csv',encoding='ISO-8859-1')\n",
    "from csv import reader\n",
    "read_file = reader(opened_file)\n",
    "apps_data = list(read_file)\n",
    "rating_sum = 0\n",
    "for each_row in apps_data[1:]:\n",
    "    rating = float(each_row[7])\n",
    "    rating_sum +=rating\n",
    "avg_rating = rating_sum/len(apps_data[1:])"
   ]
  },
  {
   "cell_type": "markdown",
   "metadata": {},
   "source": [
    "## Alternative Way to Compute an Average\n",
    "Using the new technique we've learned, compute the average app rating for all of the 7,197 apps stored in our data set.\n",
    "\n",
    "Initialize an empty list named ```all_ratings```.\n",
    "Loop through the ```apps_data[1:]``` list of lists (make sure you don't include the header row). For each of the 7,197 iterations of the loop:\n",
    "Extract the rating of the app and store it to a variable named ```rating``` (the rating has the index number ```7```). Make sure you convert the rating value from a string to a float.\n",
    "Append the value stored in ```rating``` to the list ```all_ratings```.\n",
    "Compute the sum of all ratings using the ```sum()``` command.\n",
    "Divide the sum of all ratings by the number of ratings, and assign the result to a variable named ```avg_rating```.\n",
    "\n",
    "```\n",
    "# Code Snippet\n",
    "opened_file = open('AppleStore.csv')\n",
    "from csv import reader\n",
    "read_file = reader(opened_file)\n",
    "apps_data = list(read_file)\n",
    "```"
   ]
  },
  {
   "cell_type": "code",
   "execution_count": 9,
   "metadata": {},
   "outputs": [],
   "source": [
    "opened_file = open('AppleStore.csv',encoding='ISO-8859-1')\n",
    "from csv import reader\n",
    "read_file = reader(opened_file)\n",
    "apps_data = list(read_file)\n",
    "all_ratings = []\n",
    "for each_row in apps_data[1:]:\n",
    "    rating = float(each_row[7])\n",
    "    all_ratings.append(rating)\n",
    "avg_rating = sum(all_ratings)/len(all_ratings)"
   ]
  }
 ],
 "metadata": {
  "kernelspec": {
   "display_name": "Python 3",
   "language": "python",
   "name": "python3"
  },
  "language_info": {
   "codemirror_mode": {
    "name": "ipython",
    "version": 3
   },
   "file_extension": ".py",
   "mimetype": "text/x-python",
   "name": "python",
   "nbconvert_exporter": "python",
   "pygments_lexer": "ipython3",
   "version": "3.7.4"
  }
 },
 "nbformat": 4,
 "nbformat_minor": 2
}
