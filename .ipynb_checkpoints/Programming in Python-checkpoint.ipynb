{
 "cells": [
  {
   "cell_type": "markdown",
   "metadata": {},
   "source": [
    "# Programming in Python\n",
    "\n",
    "There's been a lot of discussion and enthusiasm around data science in the last couple of years. Using data science, people have been able to build some amazing technologies:\n",
    "\n",
    "* Self-driving cars\n",
    "    * Main data science technology used: __deep learning__ for image recognition\n",
    "* AlphaGo beats world champion Lee Sedol at Go\n",
    "    * Main data science technology used: __reinforcement learning__\n",
    "* Personal assistant for smart devices\n",
    "    * Main data science technology used: __natural language processing__\n",
    "    \n",
    "To build data science technologies, we need to give the computer the proper instructions to learn from data. When we give instructions to a computer, we say that we're __programming__ it.\n",
    "\n",
    "To program a computer, we need to write the instructions in a special language, which we call a __programming language__. In this course, we'll learn Python, a programming language that offers great support for data science."
   ]
  },
  {
   "cell_type": "markdown",
   "metadata": {},
   "source": [
    "1. Instruct the computer to calculate 8 + 42.\n",
    "2. Click the Submit Answer button when you're ready to have your answer checked.\n",
    "    * The Submit Answer button runs the instructions you give to the computer and checks your answer at the same time.\n",
    "    * The Run Code button runs the instructions without checking your answer.\n",
    "3. Once you have the correct answer, click the Next button."
   ]
  },
  {
   "cell_type": "code",
   "execution_count": 1,
   "metadata": {},
   "outputs": [
    {
     "data": {
      "text/plain": [
       "50"
      ]
     },
     "execution_count": 1,
     "metadata": {},
     "output_type": "execute_result"
    }
   ],
   "source": [
    "8 + 42"
   ]
  }
 ],
 "metadata": {
  "kernelspec": {
   "display_name": "Python 3",
   "language": "python",
   "name": "python3"
  },
  "language_info": {
   "codemirror_mode": {
    "name": "ipython",
    "version": 3
   },
   "file_extension": ".py",
   "mimetype": "text/x-python",
   "name": "python",
   "nbconvert_exporter": "python",
   "pygments_lexer": "ipython3",
   "version": "3.7.4"
  }
 },
 "nbformat": 4,
 "nbformat_minor": 2
}
