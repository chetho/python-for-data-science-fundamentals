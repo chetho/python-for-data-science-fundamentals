{
 "cells": [
  {
   "cell_type": "markdown",
   "metadata": {},
   "source": [
    "## Programming in Python\n",
    "\n",
    "There's been a lot of discussion and enthusiasm around data science in the last couple of years. Using data science, people have been able to build some amazing technologies:\n",
    "\n",
    "* Self-driving cars\n",
    "    * Main data science technology used: __deep learning__ for image recognition\n",
    "* AlphaGo beats world champion Lee Sedol at Go\n",
    "    * Main data science technology used: __reinforcement learning__\n",
    "* Personal assistant for smart devices\n",
    "    * Main data science technology used: __natural language processing__\n",
    "    \n",
    "To build data science technologies, we need to give the computer the proper instructions to learn from data. When we give instructions to a computer, we say that we're __programming__ it.\n",
    "\n",
    "To program a computer, we need to write the instructions in a special language, which we call a __programming language__. In this course, we'll learn Python, a programming language that offers great support for data science."
   ]
  },
  {
   "cell_type": "markdown",
   "metadata": {},
   "source": [
    "1. Instruct the computer to calculate 8 + 42."
   ]
  },
  {
   "cell_type": "code",
   "execution_count": 2,
   "metadata": {},
   "outputs": [
    {
     "data": {
      "text/plain": [
       "50"
      ]
     },
     "execution_count": 2,
     "metadata": {},
     "output_type": "execute_result"
    }
   ],
   "source": [
    "8 + 42"
   ]
  },
  {
   "cell_type": "markdown",
   "metadata": {},
   "source": [
    "## The print() Command\n",
    "1. Using the print() command, display the result for:\n",
    "    * 40 + 4\n",
    "    * 200 - 25\n",
    "    * 14 + 3"
   ]
  },
  {
   "cell_type": "code",
   "execution_count": 4,
   "metadata": {},
   "outputs": [
    {
     "name": "stdout",
     "output_type": "stream",
     "text": [
      "44\n",
      "175\n",
      "17\n"
     ]
    }
   ],
   "source": [
    "print(40 + 4)\n",
    "print(200 - 25)\n",
    "print(14 + 3)"
   ]
  },
  {
   "cell_type": "markdown",
   "metadata": {},
   "source": [
    "## Python Syntax\n",
    "1. Run the instructions below in the code editor on the right of the screen. Remember that each instruction must be on a separate line.Run the instructions below in the code editor on the right of the screen. Remember that each instruction must be on a separate line."
   ]
  },
  {
   "cell_type": "code",
   "execution_count": 5,
   "metadata": {},
   "outputs": [
    {
     "name": "stdout",
     "output_type": "stream",
     "text": [
      "80\n",
      "4\n",
      "-3\n"
     ]
    }
   ],
   "source": [
    "print(30 + 10 + 40)\n",
    "print(4)\n",
    "print(-3)"
   ]
  },
  {
   "cell_type": "markdown",
   "metadata": {},
   "source": [
    "## Computer Programs\n",
    "1. By using the print() command, write a program that has three lines of code and:\n",
    "    * Displays the result of 34 + 16.\n",
    "    * Displays the number 34.\n",
    "    * Displays the number -34."
   ]
  },
  {
   "cell_type": "code",
   "execution_count": 6,
   "metadata": {},
   "outputs": [
    {
     "name": "stdout",
     "output_type": "stream",
     "text": [
      "50\n",
      "34\n",
      "-34\n"
     ]
    }
   ],
   "source": [
    "print(34 + 16)\n",
    "print(34)\n",
    "print(-34)"
   ]
  },
  {
   "cell_type": "markdown",
   "metadata": {},
   "source": [
    "## Code Comments\n",
    "```\n",
    "#print(34 + 16)\n",
    "#print(34)\n",
    "#print(-34)\n",
    "```\n",
    "1. Uncomment these three lines of code by removing the # symbols\n",
    "\n",
    "```\n",
    "# INITIAL CODE\n",
    "#print(34 + 16)\n",
    "#print(34)\n",
    "#print(-34)\n",
    "```"
   ]
  },
  {
   "cell_type": "code",
   "execution_count": 8,
   "metadata": {},
   "outputs": [
    {
     "name": "stdout",
     "output_type": "stream",
     "text": [
      "50\n",
      "34\n",
      "-34\n"
     ]
    }
   ],
   "source": [
    "# INITIAL CODE\n",
    "print(34 + 16)\n",
    "print(34)\n",
    "print(-34)"
   ]
  },
  {
   "cell_type": "markdown",
   "metadata": {},
   "source": [
    "## Arithmetical Operations\n",
    "1. Write a program with three lines of code that performs the following arithmetical operations and displays the results (you'll need to use the print() command to display the results):\n",
    "    * 16 multiplied by 10\n",
    "    * 48 divided by 5\n",
    "    * 5 exponential 3 (make sure you don't type 5^3 because ^ is not the symbol for exponentiation)"
   ]
  },
  {
   "cell_type": "code",
   "execution_count": 9,
   "metadata": {},
   "outputs": [
    {
     "name": "stdout",
     "output_type": "stream",
     "text": [
      "160\n",
      "9.6\n",
      "125\n"
     ]
    }
   ],
   "source": [
    "print(16 * 10)\n",
    "print(48 / 5)\n",
    "print(5 ** 3)"
   ]
  }
 ],
 "metadata": {
  "kernelspec": {
   "display_name": "Python 3",
   "language": "python",
   "name": "python3"
  },
  "language_info": {
   "codemirror_mode": {
    "name": "ipython",
    "version": 3
   },
   "file_extension": ".py",
   "mimetype": "text/x-python",
   "name": "python",
   "nbconvert_exporter": "python",
   "pygments_lexer": "ipython3",
   "version": "3.7.4"
  }
 },
 "nbformat": 4,
 "nbformat_minor": 2
}
